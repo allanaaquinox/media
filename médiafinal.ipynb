{
  "nbformat": 4,
  "nbformat_minor": 0,
  "metadata": {
    "colab": {
      "provenance": [],
      "authorship_tag": "ABX9TyM3juqsGycZU5ue6DE34Mn6",
      "include_colab_link": true
    },
    "kernelspec": {
      "name": "python3",
      "display_name": "Python 3"
    },
    "language_info": {
      "name": "python"
    }
  },
  "cells": [
    {
      "cell_type": "markdown",
      "metadata": {
        "id": "view-in-github",
        "colab_type": "text"
      },
      "source": [
        "<a href=\"https://colab.research.google.com/github/allanaaquinox/media/blob/main/m%C3%A9diafinal.ipynb\" target=\"_parent\"><img src=\"https://colab.research.google.com/assets/colab-badge.svg\" alt=\"Open In Colab\"/></a>"
      ]
    },
    {
      "cell_type": "code",
      "execution_count": null,
      "metadata": {
        "colab": {
          "base_uri": "https://localhost:8080/"
        },
        "id": "mdTFoH93W98W",
        "outputId": "f204f299-b8eb-46c1-b9dc-5856556cac1c"
      },
      "outputs": [
        {
          "output_type": "stream",
          "name": "stdout",
          "text": [
            "media final do estudante: 7.5\n"
          ]
        }
      ],
      "source": [
        "b1 = [10,9,9,5]\n",
        "b2 = [5,10,6,9]\n",
        "\n",
        "def cal_media(notas):\n",
        "  soma = sum(notas)\n",
        "  media = soma /len(notas)\n",
        "  return media\n",
        "\n",
        "media_b1 = cal_media(b1)\n",
        "media_b2 = cal_media(b2)\n",
        "\n",
        "media_final = (int(media_b1 + media_b2))/2\n",
        "\n",
        "print(\"media final do estudante:\", media_final)\n"
      ]
    }
  ]
}